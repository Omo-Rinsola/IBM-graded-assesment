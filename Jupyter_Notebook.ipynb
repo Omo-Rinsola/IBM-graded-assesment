{
  "metadata": {
    "kernelspec": {
      "name": "python",
      "display_name": "Pyolite",
      "language": "python"
    },
    "language_info": {
      "codemirror_mode": {
        "name": "python",
        "version": 3
      },
      "file_extension": ".py",
      "mimetype": "text/x-python",
      "name": "python",
      "nbconvert_exporter": "python",
      "pygments_lexer": "ipython3",
      "version": "3.8"
    }
  },
  "nbformat_minor": 4,
  "nbformat": 4,
  "cells": [
    {
      "cell_type": "markdown",
      "source": "<center>\n    <img src=\"https://cf-courses-data.s3.us.cloud-object-storage.appdomain.cloud/IBMDeveloperSkillsNetwork-DS0105EN-SkillsNetwork/labs/Module2/images/SN_web_lightmode.png\" width=\"300\" alt=\"cognitiveclass.ai logo\">\n</center>\n",
      "metadata": {}
    },
    {
      "cell_type": "markdown",
      "source": "#### Add your code below following the instructions given in the course\n",
      "metadata": {}
    },
    {
      "cell_type": "markdown",
      "source": "<h1> My Jupyter Notebook on IBM Waston Studio</h1>",
      "metadata": {}
    },
    {
      "cell_type": "markdown",
      "source": "<b> Makinde Omorinsola </b>\n<br>\n<h7>Data Scientist </h7>\n",
      "metadata": {}
    },
    {
      "cell_type": "markdown",
      "source": "<i>I am interested in Data Science because, i like problem solving.</i>",
      "metadata": {}
    },
    {
      "cell_type": "markdown",
      "source": "<h3> the code is cell 5 is  adding  two numbers </h3>",
      "metadata": {}
    },
    {
      "cell_type": "code",
      "source": "a = 5\nb = 10\nadd = a + b\nprint(add)",
      "metadata": {
        "trusted": true
      },
      "execution_count": 5,
      "outputs": [
        {
          "name": "stdout",
          "text": "15\n",
          "output_type": "stream"
        }
      ]
    },
    {
      "cell_type": "markdown",
      "source": "\n<ol>\n    <li>data</li>\n    <li>AI</li>\n    <li>ML</li>\n    \n</ol>\n\n<hr>\n<a href=\"\"> tools for data science </a>",
      "metadata": {}
    },
    {
      "cell_type": "code",
      "source": "",
      "metadata": {},
      "execution_count": null,
      "outputs": []
    },
    {
      "cell_type": "code",
      "source": "",
      "metadata": {},
      "execution_count": null,
      "outputs": []
    }
  ]
}